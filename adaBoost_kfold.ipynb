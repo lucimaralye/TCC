{
 "cells": [
  {
   "cell_type": "code",
   "execution_count": 1,
   "metadata": {},
   "outputs": [],
   "source": [
    "# Passo 1: Importar as bibliotecas necessárias\n",
    "\n",
    "import pandas as pd\n",
    "from sklearn.model_selection import cross_val_score, KFold\n",
    "from sklearn.preprocessing import StandardScaler, OneHotEncoder\n",
    "from sklearn.compose import ColumnTransformer\n",
    "from sklearn.pipeline import Pipeline\n",
    "from sklearn.ensemble import AdaBoostRegressor\n",
    "from sklearn.metrics import mean_squared_error, mean_absolute_error, r2_score"
   ]
  },
  {
   "cell_type": "code",
   "execution_count": 2,
   "metadata": {},
   "outputs": [
    {
     "name": "stdout",
     "output_type": "stream",
     "text": [
      "   Código do Item Cidade de Entrega Estado de Entrega  \\\n",
      "0               1           FORMIGA                MG   \n",
      "1               1           FORMIGA                MG   \n",
      "2               3           FORMIGA                MG   \n",
      "3               4           FORMIGA                MG   \n",
      "4               5           FORMIGA                MG   \n",
      "\n",
      "  Data de Implantação do Pedido Data de Entrega do Pedido  Tempo de Entrega  \n",
      "0                    20/05/2020                04/06/2020                15  \n",
      "1                    22/05/2020                25/05/2020                 3  \n",
      "2                    22/05/2020                25/05/2020                 3  \n",
      "3                    18/06/2020                06/07/2020                18  \n",
      "4                    18/06/2020                06/07/2020                18  \n"
     ]
    }
   ],
   "source": [
    "# Passo 2: Carregar os dados da planilha \n",
    "\n",
    "# Definir o caminho para o arquivo CSV\n",
    "caminho_arquivo = 'C:/TCC/pedidos_faturamento.csv'\n",
    "\n",
    "# Carregar o arquivo CSV em um DataFrame\n",
    "df = pd.read_csv(caminho_arquivo, delimiter=';', encoding='utf-8', header=0)\n",
    "\n",
    "# Exibir as primeiras linhas do DataFrame para verificar se foi carregado corretamente\n",
    "print(df.head())"
   ]
  },
  {
   "cell_type": "code",
   "execution_count": 3,
   "metadata": {},
   "outputs": [
    {
     "name": "stdout",
     "output_type": "stream",
     "text": [
      "Código do Item                    int64\n",
      "Cidade de Entrega                object\n",
      "Estado de Entrega                object\n",
      "Data de Implantação do Pedido    object\n",
      "Data de Entrega do Pedido        object\n",
      "dtype: object\n",
      "Colunas categóricas: ['Cidade de Entrega', 'Estado de Entrega', 'Data de Implantação do Pedido', 'Data de Entrega do Pedido']\n",
      "Colunas numéricas: ['Código do Item']\n"
     ]
    }
   ],
   "source": [
    "# passo 3: Definir a coluna alvo\n",
    "target_column = 'Tempo de Entrega'\n",
    "\n",
    "# Separar as features e o target\n",
    "X = df.drop(columns=[target_column])\n",
    "y = df[target_column]\n",
    "\n",
    "# Verificar os tipos de dados\n",
    "print(X.dtypes)\n",
    "\n",
    "# Identificar colunas categóricas e numéricas\n",
    "categorical_cols = X.select_dtypes(include=['object']).columns.tolist()\n",
    "numerical_cols = X.select_dtypes(include=[float, int]).columns.tolist()\n",
    "\n",
    "# Imprimir colunas categóricas e numéricas para verificação\n",
    "print(f\"Colunas categóricas: {categorical_cols}\")\n",
    "print(f\"Colunas numéricas: {numerical_cols}\")"
   ]
  },
  {
   "cell_type": "code",
   "execution_count": 20,
   "metadata": {},
   "outputs": [],
   "source": [
    "# passo 4: Criar transformações para colunas numéricas e categóricas\n",
    "preprocessor = ColumnTransformer(\n",
    "    transformers=[\n",
    "        ('num', StandardScaler(), numerical_cols),\n",
    "        ('cat', OneHotEncoder(handle_unknown='ignore'), categorical_cols)\n",
    "    ])\n",
    "\n",
    "# Criar pipeline que inclui preprocessor e o modelo AdaBoost\n",
    "pipeline = Pipeline(steps=[\n",
    "    ('preprocessor', preprocessor),\n",
    "    ('regressor', AdaBoostRegressor(n_estimators=100, learning_rate=2.0, random_state=42))\n",
    "])\n"
   ]
  },
  {
   "cell_type": "code",
   "execution_count": 21,
   "metadata": {},
   "outputs": [],
   "source": [
    "# passo 5: Configurar a validação cruzada com k-fold\n",
    "kfold = KFold(n_splits=5, shuffle=True, random_state=42)"
   ]
  },
  {
   "cell_type": "code",
   "execution_count": 22,
   "metadata": {},
   "outputs": [],
   "source": [
    "# passo 6: Avaliar o modelo com cross-validation\n",
    "mse_scores = cross_val_score(pipeline, X, y, cv=kfold, scoring='neg_mean_squared_error')\n",
    "mae_scores = cross_val_score(pipeline, X, y, cv=kfold, scoring='neg_mean_absolute_error')\n",
    "r2_scores = cross_val_score(pipeline, X, y, cv=kfold, scoring='r2')"
   ]
  },
  {
   "cell_type": "code",
   "execution_count": 25,
   "metadata": {},
   "outputs": [
    {
     "name": "stdout",
     "output_type": "stream",
     "text": [
      "AdaBoost - Cross-Validation Results\n",
      "Mean Squared Error: 2507.59 ± 1450.71\n",
      "Mean Absolute Error: 44.21 ± 15.61\n",
      "R2 Score: -4.10 ± 2.98\n"
     ]
    }
   ],
   "source": [
    "# passo 7: Converter scores para valores positivos\n",
    "mse_scores = -mse_scores\n",
    "mae_scores = -mae_scores\n",
    "\n",
    "print(\"AdaBoost - Cross-Validation Results\")\n",
    "print(f\"Mean Squared Error: {mse_scores.mean():.2f} ± {mse_scores.std():.2f}\")\n",
    "print(f\"Mean Absolute Error: {mae_scores.mean():.2f} ± {mae_scores.std():.2f}\")\n",
    "print(f\"R2 Score: {r2_scores.mean():.2f} ± {r2_scores.std():.2f}\")"
   ]
  }
 ],
 "metadata": {
  "kernelspec": {
   "display_name": "base",
   "language": "python",
   "name": "python3"
  },
  "language_info": {
   "codemirror_mode": {
    "name": "ipython",
    "version": 3
   },
   "file_extension": ".py",
   "mimetype": "text/x-python",
   "name": "python",
   "nbconvert_exporter": "python",
   "pygments_lexer": "ipython3",
   "version": "3.11.7"
  }
 },
 "nbformat": 4,
 "nbformat_minor": 2
}
