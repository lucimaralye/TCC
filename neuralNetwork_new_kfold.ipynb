{
 "cells": [
  {
   "cell_type": "code",
   "execution_count": 1,
   "metadata": {},
   "outputs": [],
   "source": [
    "# Passo 1: Importar as bibliotecas necessárias\n",
    "\n",
    "import pandas as pd\n",
    "from sklearn.model_selection import KFold, cross_val_score\n",
    "from sklearn.preprocessing import StandardScaler\n",
    "from sklearn.metrics import make_scorer, mean_squared_error, mean_absolute_error, r2_score\n",
    "from tensorflow.keras.models import Sequential\n",
    "from tensorflow.keras.layers import Dense, Input\n",
    "from scikeras.wrappers import KerasRegressor"
   ]
  },
  {
   "cell_type": "code",
   "execution_count": 2,
   "metadata": {},
   "outputs": [
    {
     "name": "stdout",
     "output_type": "stream",
     "text": [
      "   Código do Item Cidade de Entrega Estado de Entrega  \\\n",
      "0               1           FORMIGA                MG   \n",
      "1               1           FORMIGA                MG   \n",
      "2               3           FORMIGA                MG   \n",
      "3               4           FORMIGA                MG   \n",
      "4               5           FORMIGA                MG   \n",
      "\n",
      "  Data de Implantação do Pedido Data de Entrega do Pedido  Tempo de Entrega  \n",
      "0                    20/05/2020                04/06/2020                15  \n",
      "1                    22/05/2020                25/05/2020                 3  \n",
      "2                    22/05/2020                25/05/2020                 3  \n",
      "3                    18/06/2020                06/07/2020                18  \n",
      "4                    18/06/2020                06/07/2020                18  \n"
     ]
    }
   ],
   "source": [
    "# Passo 2: Carregar os dados da planilha \n",
    "\n",
    "# Definir o caminho para o arquivo CSV\n",
    "caminho_arquivo = 'C:/TCC/pedidos_faturamento.csv'\n",
    "\n",
    "# Carregar o arquivo CSV em um DataFrame\n",
    "df = pd.read_csv(caminho_arquivo, delimiter=';', encoding='utf-8', header=0)\n",
    "\n",
    "# Exibir as primeiras linhas do DataFrame para verificar se foi carregado corretamente\n",
    "print(df.head())"
   ]
  },
  {
   "cell_type": "code",
   "execution_count": 3,
   "metadata": {},
   "outputs": [],
   "source": [
    "target_column = 'Tempo de Entrega'\n",
    "\n",
    "# Separar as features e o target\n",
    "X = df.drop(columns=[target_column])\n",
    "y = df[target_column]\n",
    "\n",
    "# Identificar colunas categóricas e numéricas\n",
    "categorical_cols = X.select_dtypes(include=['object']).columns\n",
    "numerical_cols = X.select_dtypes(include=[float, int]).columns"
   ]
  },
  {
   "cell_type": "code",
   "execution_count": 4,
   "metadata": {},
   "outputs": [],
   "source": [
    "# Codificar variáveis categóricas, se houver\n",
    "X = pd.get_dummies(X)"
   ]
  },
  {
   "cell_type": "code",
   "execution_count": 5,
   "metadata": {},
   "outputs": [],
   "source": [
    "# Normalizar os dados\n",
    "scaler = StandardScaler()\n",
    "X = scaler.fit_transform(X)"
   ]
  },
  {
   "cell_type": "code",
   "execution_count": 6,
   "metadata": {},
   "outputs": [],
   "source": [
    "# Função para criar o modelo de Rede Neural\n",
    "def create_model():\n",
    "    model = Sequential()\n",
    "    model.add(Input(shape=(X.shape[1],)))\n",
    "    model.add(Dense(32, activation='relu'))\n",
    "    model.add(Dense(16, activation='relu'))\n",
    "    model.add(Dense(1))  # Camada de saída para regressão\n",
    "    model.compile(loss='mean_squared_error', optimizer='adam', metrics=['mean_absolute_error'])\n",
    "    return model"
   ]
  },
  {
   "cell_type": "code",
   "execution_count": 7,
   "metadata": {},
   "outputs": [],
   "source": [
    "# Envolver o modelo Keras com KerasRegressor\n",
    "keras_regressor = KerasRegressor(model=create_model, epochs=50, batch_size=10, verbose=0)\n"
   ]
  },
  {
   "cell_type": "code",
   "execution_count": 8,
   "metadata": {},
   "outputs": [],
   "source": [
    "# Definir a validação cruzada com k-fold\n",
    "kfold = KFold(n_splits=10, shuffle=True, random_state=42)\n"
   ]
  },
  {
   "cell_type": "code",
   "execution_count": 9,
   "metadata": {},
   "outputs": [],
   "source": [
    "# Definir as métricas para avaliação\n",
    "scoring = {\n",
    "    'mse': make_scorer(mean_squared_error),\n",
    "    'mae': make_scorer(mean_absolute_error),\n",
    "    'r2': make_scorer(r2_score)\n",
    "}"
   ]
  },
  {
   "cell_type": "code",
   "execution_count": 10,
   "metadata": {},
   "outputs": [
    {
     "name": "stdout",
     "output_type": "stream",
     "text": [
      "Neural Network - Cross-Validation Results\n",
      "Mean Squared Error: 43.23 ± 8.37\n",
      "Mean Absolute Error: 2.02 ± 0.21\n",
      "R2 Score: 0.91 ± 0.02\n"
     ]
    }
   ],
   "source": [
    "# Avaliar o modelo com cross-validation\n",
    "results = cross_val_score(keras_regressor, X, y, cv=kfold, scoring='neg_mean_squared_error')\n",
    "mse_scores = -results\n",
    "results = cross_val_score(keras_regressor, X, y, cv=kfold, scoring='neg_mean_absolute_error')\n",
    "mae_scores = -results\n",
    "results = cross_val_score(keras_regressor, X, y, cv=kfold, scoring='r2')\n",
    "r2_scores = results\n",
    "\n",
    "print(\"Neural Network - Cross-Validation Results\")\n",
    "print(f\"Mean Squared Error: {mse_scores.mean():.2f} ± {mse_scores.std():.2f}\")\n",
    "print(f\"Mean Absolute Error: {mae_scores.mean():.2f} ± {mae_scores.std():.2f}\")\n",
    "print(f\"R2 Score: {r2_scores.mean():.2f} ± {r2_scores.std():.2f}\")"
   ]
  }
 ],
 "metadata": {
  "kernelspec": {
   "display_name": "base",
   "language": "python",
   "name": "python3"
  },
  "language_info": {
   "codemirror_mode": {
    "name": "ipython",
    "version": 3
   },
   "file_extension": ".py",
   "mimetype": "text/x-python",
   "name": "python",
   "nbconvert_exporter": "python",
   "pygments_lexer": "ipython3",
   "version": "3.11.8"
  }
 },
 "nbformat": 4,
 "nbformat_minor": 2
}
