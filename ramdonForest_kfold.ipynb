{
 "cells": [
  {
   "cell_type": "code",
   "execution_count": 1,
   "metadata": {},
   "outputs": [],
   "source": [
    "# Passo 1: Importar as bibliotecas necessárias\n",
    "\n",
    "import pandas as pd\n",
    "from sklearn.model_selection import train_test_split\n",
    "from sklearn.preprocessing import StandardScaler\n",
    "from sklearn.ensemble import RandomForestRegressor\n",
    "from sklearn.metrics import mean_squared_error, mean_absolute_error, r2_score\n",
    "from sklearn.model_selection import cross_val_score, KFold \n",
    "\n"
   ]
  },
  {
   "cell_type": "code",
   "execution_count": 2,
   "metadata": {},
   "outputs": [
    {
     "name": "stdout",
     "output_type": "stream",
     "text": [
      "   Código do Item Cidade de Entrega Estado de Entrega  \\\n",
      "0               1           FORMIGA                MG   \n",
      "1               1           FORMIGA                MG   \n",
      "2               3           FORMIGA                MG   \n",
      "3               4           FORMIGA                MG   \n",
      "4               5           FORMIGA                MG   \n",
      "\n",
      "  Data de Implantação do Pedido Data de Entrega do Pedido  Tempo de Entrega  \n",
      "0                    20/05/2020                04/06/2020                15  \n",
      "1                    22/05/2020                25/05/2020                 3  \n",
      "2                    22/05/2020                25/05/2020                 3  \n",
      "3                    18/06/2020                06/07/2020                18  \n",
      "4                    18/06/2020                06/07/2020                18  \n"
     ]
    }
   ],
   "source": [
    "# Passo 2: Definir o caminho para o arquivo CSV\n",
    "caminho_arquivo = 'C:/TCC/pedidos_faturamento.csv'\n",
    "\n",
    "# Carregar o arquivo CSV em um DataFrame\n",
    "df = pd.read_csv(caminho_arquivo, delimiter=';', encoding='utf-8', header=0)\n",
    "\n",
    "# Exibir as primeiras linhas do DataFrame para verificar se foi carregado corretamente\n",
    "print(df.head())"
   ]
  },
  {
   "cell_type": "code",
   "execution_count": 3,
   "metadata": {},
   "outputs": [],
   "source": [
    "#Passo 3: definir a coluna target\n",
    "\n",
    "target_column = 'Tempo de Entrega'\n",
    "\n",
    "# Separar as features e o target\n",
    "X = df.drop(columns=[target_column])\n",
    "y = df[target_column]\n",
    "\n",
    "# Identificar colunas categóricas e numéricas\n",
    "categorical_cols = X.select_dtypes(include=['object']).columns\n",
    "numerical_cols = X.select_dtypes(include=[float, int]).columns\n"
   ]
  },
  {
   "cell_type": "code",
   "execution_count": 4,
   "metadata": {},
   "outputs": [],
   "source": [
    "# Passo 4: Codificar variáveis categóricas, se houver\n",
    "X = pd.get_dummies(X)"
   ]
  },
  {
   "cell_type": "code",
   "execution_count": 5,
   "metadata": {},
   "outputs": [],
   "source": [
    "# Passo 5: Configurar o modelo\n",
    "rf_model = RandomForestRegressor(n_estimators=100, max_depth=50, random_state=42)\n",
    "\n",
    "# Configurar a validação cruzada com k-fold\n",
    "kfold = KFold(n_splits=10, shuffle=True, random_state=42)"
   ]
  },
  {
   "cell_type": "code",
   "execution_count": null,
   "metadata": {},
   "outputs": [],
   "source": [
    "# Passo 6: Avaliar o modelo\n",
    "# Avaliar o modelo com cross-validation\n",
    "mse_scores = cross_val_score(rf_model, X, y, cv=kfold, scoring='neg_mean_squared_error')\n",
    "mae_scores = cross_val_score(rf_model, X, y, cv=kfold, scoring='neg_mean_absolute_error')\n",
    "r2_scores = cross_val_score(rf_model, X, y, cv=kfold, scoring='r2')"
   ]
  },
  {
   "cell_type": "code",
   "execution_count": 19,
   "metadata": {},
   "outputs": [
    {
     "name": "stdout",
     "output_type": "stream",
     "text": [
      "Random Forest - Cross-Validation Results\n",
      "Mean Squared Error: 331.47563309334987\n",
      "Mean Absolute Error: 12.459739726568127\n",
      "R2 Score: 0.3274829573982564\n"
     ]
    }
   ],
   "source": [
    "# Converter scores para valores positivos\n",
    "mse_scores = -mse_scores\n",
    "mae_scores = -mae_scores\n",
    "\n",
    "print(\"Random Forest - Cross-Validation Results\")\n",
    "print(f\"Mean Squared Error: {mse_scores.mean()}\")\n",
    "print(f\"Mean Absolute Error: {mae_scores.mean()}\")\n",
    "print(f\"R2 Score: {r2_scores.mean()}\")"
   ]
  }
 ],
 "metadata": {
  "kernelspec": {
   "display_name": "base",
   "language": "python",
   "name": "python3"
  },
  "language_info": {
   "codemirror_mode": {
    "name": "ipython",
    "version": 3
   },
   "file_extension": ".py",
   "mimetype": "text/x-python",
   "name": "python",
   "nbconvert_exporter": "python",
   "pygments_lexer": "ipython3",
   "version": "3.11.8"
  }
 },
 "nbformat": 4,
 "nbformat_minor": 2
}
